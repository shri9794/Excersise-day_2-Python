{
 "cells": [
  {
   "cell_type": "markdown",
   "metadata": {},
   "source": [
    "1. Write a Python program to count the number of even and odd numbers from a series of numbers\n",
    "\n",
    "Steps:\n",
    "1. define a list or tuple\n",
    "2. assign 0 as temp values to odd and even\n",
    "3. put the for loop to get the div by 2 if yes add even with that iteration (same for odd if its not div by 2)\n"
   ]
  },
  {
   "cell_type": "code",
   "execution_count": 22,
   "metadata": {},
   "outputs": [
    {
     "name": "stdout",
     "output_type": "stream",
     "text": [
      "Number of even numbers : 4\n",
      "Number of odd numbers : 5\n"
     ]
    }
   ],
   "source": [
    "s= (1,2,3,4,5,6,7,8,9)\n",
    "odd = 0\n",
    "even = 0\n",
    "for i in s:\n",
    "    if i%2==0:\n",
    "        even+=1\n",
    "    else:\n",
    "        odd+=1\n",
    "print(\"Number of even numbers :\",even)\n",
    "print(\"Number of odd numbers :\",odd)"
   ]
  },
  {
   "cell_type": "code",
   "execution_count": 17,
   "metadata": {},
   "outputs": [
    {
     "data": {
      "text/plain": [
       "4"
      ]
     },
     "execution_count": 17,
     "metadata": {},
     "output_type": "execute_result"
    }
   ],
   "source": [
    "even"
   ]
  },
  {
   "cell_type": "code",
   "execution_count": 18,
   "metadata": {},
   "outputs": [
    {
     "data": {
      "text/plain": [
       "5"
      ]
     },
     "execution_count": 18,
     "metadata": {},
     "output_type": "execute_result"
    }
   ],
   "source": [
    "odd"
   ]
  },
  {
   "cell_type": "markdown",
   "metadata": {},
   "source": [
    "    ## 2. Write a Python program to find numbers between 100 and 400 (both included) where each digit of a number is an even number. The numbers obtained should be printed in a comma-separated sequence.\n",
    "    \n",
    "    \n",
    "  Steps \n",
    "  1. Create a empty list \n",
    "  2. set the range bw 100-401 so 400 is also considered \n",
    "  3. convert the range to String so we could iterate between all the numbers \n",
    "  4. specify all integer values to check for divisibily with 2 and if yes append the result to the empty list\n",
    "  5. then join , in front of the items in the list \n",
    "  "
   ]
  },
  {
   "cell_type": "code",
   "execution_count": 19,
   "metadata": {},
   "outputs": [],
   "source": [
    "empty= []\n",
    "for x in range (100,401):\n",
    "    s = str(x)\n",
    "    if (int(s[0])%2==0) and (int(s[1])%2==0) and (int(s[2])%2==0):\n",
    "        empty.append(s)"
   ]
  },
  {
   "cell_type": "code",
   "execution_count": 20,
   "metadata": {},
   "outputs": [
    {
     "data": {
      "text/plain": [
       "['200',\n",
       " '202',\n",
       " '204',\n",
       " '206',\n",
       " '208',\n",
       " '220',\n",
       " '222',\n",
       " '224',\n",
       " '226',\n",
       " '228',\n",
       " '240',\n",
       " '242',\n",
       " '244',\n",
       " '246',\n",
       " '248',\n",
       " '260',\n",
       " '262',\n",
       " '264',\n",
       " '266',\n",
       " '268',\n",
       " '280',\n",
       " '282',\n",
       " '284',\n",
       " '286',\n",
       " '288',\n",
       " '400']"
      ]
     },
     "execution_count": 20,
     "metadata": {},
     "output_type": "execute_result"
    }
   ],
   "source": [
    "empty"
   ]
  },
  {
   "cell_type": "code",
   "execution_count": 21,
   "metadata": {},
   "outputs": [
    {
     "data": {
      "text/plain": [
       "'200,202,204,206,208,220,222,224,226,228,240,242,244,246,248,260,262,264,266,268,280,282,284,286,288,400'"
      ]
     },
     "execution_count": 21,
     "metadata": {},
     "output_type": "execute_result"
    }
   ],
   "source": [
    "(\",\".join(empty))"
   ]
  },
  {
   "cell_type": "code",
   "execution_count": null,
   "metadata": {},
   "outputs": [],
   "source": [
    "## 3. Write a Python program to calculate a dog's age in dog's years. Go to the editor\n",
    "Note: For the first two years, a dog year is equal to 10.5 human years. After that, each dog year equals 4 human years."
   ]
  },
  {
   "cell_type": "code",
   "execution_count": 105,
   "metadata": {},
   "outputs": [
    {
     "name": "stdout",
     "output_type": "stream",
     "text": [
      "age in human years :  5\n",
      "dog age in dog years is:  33\n"
     ]
    }
   ],
   "source": [
    "Hu_age= int(input(\"age in human years :  \"))\n",
    "\n",
    "if Hu_age <0:\n",
    "    print(\"age must be postive number\")\n",
    "    exit()\n",
    "elif Hu_age <=2:\n",
    "    Dog_age = Hu_age * 10\n",
    "else:\n",
    "    Dog_age = 21 + (Hu_age - 2) *4 \n",
    "print(\"dog age in dog years is: \", Dog_age)"
   ]
  },
  {
   "cell_type": "code",
   "execution_count": null,
   "metadata": {},
   "outputs": [],
   "source": []
  },
  {
   "cell_type": "code",
   "execution_count": null,
   "metadata": {},
   "outputs": [],
   "source": [
    "## 4. Write a Python function that takes a number as a parameter and check the number is prime or not.\n",
    "steps\n",
    "1. get input from user\n",
    "2. of number is divisible by 2 and any number between that number its not prime\n",
    "3. break the if loop and print the output if its not prime in the above\n",
    "4. else print number is prime"
   ]
  },
  {
   "cell_type": "code",
   "execution_count": 37,
   "metadata": {},
   "outputs": [
    {
     "name": "stdout",
     "output_type": "stream",
     "text": [
      "enter a number:  12\n",
      "12 is not a prime number\n"
     ]
    }
   ],
   "source": [
    "# To take input from the user\n",
    "num = int(input(\"enter a number:  \"))\n",
    "\n",
    "# prime numbers are greater than 1\n",
    "if num > 1:\n",
    "    for i in range(2,num):\n",
    "        if (num % i)==0:\n",
    "            print(num, \"is not a prime number\")\n",
    "            break\n",
    "    else:\n",
    "        print(num, \"is a prime number\")"
   ]
  },
  {
   "cell_type": "code",
   "execution_count": null,
   "metadata": {},
   "outputs": [],
   "source": [
    "## 5. Write a Python function that accepts a string and calculate the number of upper case letters and lower case letters. Go to the editor\n",
    "original String :  Inceptz is One of The BeSt Places TO LEarn DataSciEnce\n",
    "No. of Upper case characters :  13\n",
    "No. of Lower case Characters :  32\n",
    "\n",
    "Steps\n",
    "1. create a function (define a function) to call for later\n",
    "2. assign temp values to upper and low case as 0\n",
    "3. if c is upper add each iteration with 1 which will yield the total to us (do the same for non caps)\n"
   ]
  },
  {
   "cell_type": "code",
   "execution_count": 47,
   "metadata": {},
   "outputs": [],
   "source": [
    "s= [\"Inceptz is One of The BeSt Places TO LEarn DataSciEnce\"]"
   ]
  },
  {
   "cell_type": "code",
   "execution_count": 45,
   "metadata": {},
   "outputs": [
    {
     "data": {
      "text/plain": [
       "\"['Inceptz is One of The BeSt Places TO LEarn DataSciEnce']\""
      ]
     },
     "execution_count": 45,
     "metadata": {},
     "output_type": "execute_result"
    }
   ],
   "source": [
    "str(s)"
   ]
  },
  {
   "cell_type": "code",
   "execution_count": 57,
   "metadata": {},
   "outputs": [],
   "source": [
    "def string_test(s):\n",
    "    d={\"upper case\": 0, \"low case\": 0}\n",
    "    for c in s:\n",
    "        if c.isupper():\n",
    "            d[\"upper case\"]+=1\n",
    "        elif c.islower():\n",
    "            d[\"low case\"]+=1\n",
    "        else:\n",
    "            pass\n",
    "    print(\"orignial string:  \", s)\n",
    "    print(\"no of upper case :  \",d[\"upper case\"])\n",
    "    print(\"no of lower case :  \",d[\"low case\"])"
   ]
  },
  {
   "cell_type": "code",
   "execution_count": 58,
   "metadata": {},
   "outputs": [
    {
     "name": "stdout",
     "output_type": "stream",
     "text": [
      "orignial string:   Inceptz is One of The BeSt Places TO LEarn DataSciEnce\n",
      "no of upper case :   13\n",
      "no of lower case :   32\n"
     ]
    }
   ],
   "source": [
    "string_test('Inceptz is One of The BeSt Places TO LEarn DataSciEnce')"
   ]
  },
  {
   "cell_type": "code",
   "execution_count": 60,
   "metadata": {},
   "outputs": [],
   "source": [
    "## 6. Write a Python program to reverse a string. \n",
    "#The original string is: 1234abcd\n",
    "#The reversed string: dcba4321\n",
    "\n",
    "steps:\n",
    "1. no in built function to reverse a string, alternate is to use the slicing backwards, -1."
   ]
  },
  {
   "cell_type": "code",
   "execution_count": 64,
   "metadata": {},
   "outputs": [],
   "source": [
    "a = \"1234abcd\" [::-1]"
   ]
  },
  {
   "cell_type": "code",
   "execution_count": 65,
   "metadata": {},
   "outputs": [
    {
     "data": {
      "text/plain": [
       "'dcba4321'"
      ]
     },
     "execution_count": 65,
     "metadata": {},
     "output_type": "execute_result"
    }
   ],
   "source": [
    "a"
   ]
  },
  {
   "cell_type": "code",
   "execution_count": 75,
   "metadata": {},
   "outputs": [],
   "source": [
    "## 7. Write a Python program to find  the greatest common divisor (gcd) of two integers.\n",
    "# two numbers are: (12, 14)\n",
    "# the GCD of the numbers are: 2\n",
    "\n",
    "Steps:\n",
    "1. Create a definition to the function\n",
    "2. Take the smallest number as the end for the range\n",
    "3. "
   ]
  },
  {
   "cell_type": "code",
   "execution_count": 92,
   "metadata": {},
   "outputs": [],
   "source": [
    "def compute_hcf(a, b):\n",
    "\n",
    "    if a > b:\n",
    "        smaller = a\n",
    "    else:\n",
    "        smaller = b\n",
    "    for i in range(1, smaller+1):\n",
    "        if((a % i == 0) and (b % i == 0)):\n",
    "            hcf = i \n",
    "    return hcf"
   ]
  },
  {
   "cell_type": "code",
   "execution_count": 95,
   "metadata": {},
   "outputs": [
    {
     "data": {
      "text/plain": [
       "12"
      ]
     },
     "execution_count": 95,
     "metadata": {},
     "output_type": "execute_result"
    }
   ],
   "source": [
    "compute_hcf(12,24)"
   ]
  },
  {
   "cell_type": "code",
   "execution_count": null,
   "metadata": {},
   "outputs": [],
   "source": []
  }
 ],
 "metadata": {
  "kernelspec": {
   "display_name": "Python 3",
   "language": "python",
   "name": "python3"
  },
  "language_info": {
   "codemirror_mode": {
    "name": "ipython",
    "version": 3
   },
   "file_extension": ".py",
   "mimetype": "text/x-python",
   "name": "python",
   "nbconvert_exporter": "python",
   "pygments_lexer": "ipython3",
   "version": "3.8.5"
  }
 },
 "nbformat": 4,
 "nbformat_minor": 4
}
